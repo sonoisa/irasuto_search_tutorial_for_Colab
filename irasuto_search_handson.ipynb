{
  "nbformat": 4,
  "nbformat_minor": 0,
  "metadata": {
    "colab": {
      "name": "irasuto_search_handson.ipynb",
      "provenance": [],
      "collapsed_sections": []
    },
    "kernelspec": {
      "name": "python3",
      "display_name": "Python 3"
    }
  },
  "cells": [
    {
      "cell_type": "markdown",
      "metadata": {
        "id": "Jj6CdHkLiElp"
      },
      "source": [
        "# あなたの文章に合った「いらすとや」画像をレコメンド♪（勉強会編）\n",
        "\n",
        "解説記事: https://qiita.com/sonoisa/items/775ac4c7871ced6ed4c3"
      ]
    },
    {
      "cell_type": "markdown",
      "metadata": {
        "id": "IpUI7Vfz3SEI"
      },
      "source": [
        "## アルゴリズムの概要\n",
        "\n",
        "本アプリの基本的なアイディアは次のとおりです。\n",
        "\n",
        "1. 与えられた文や画像の説明文を、それぞれ文の分散表現（つまりはベクトル）に変換する。\n",
        "1. 与えられた文と画像の説明文の意味の近さを、それぞれの文の分散表現を使って計算する（意味の近さ = 2つのベクトルのなす角の小ささ = コサイン類似度の大きさとする）。\n",
        "1. コサイン類似度が大きい説明文を持つ画像トップN個を選ぶことで、与えられた文と意味が近い画像を発見できる。\n",
        "\n",
        "模式図にすると、次のようになります。\n",
        "\n",
        "<img src=\"https://camo.qiitausercontent.com/fb62a6b8a0fd447e1ff1370e83ff0b636a3f9a36/68747470733a2f2f71696974612d696d6167652d73746f72652e73332e616d617a6f6e6177732e636f6d2f302f32363036322f33393935316266392d663630322d383565332d646239662d6235353764663164376266642e706e67\" width=\"800\">"
      ]
    },
    {
      "cell_type": "markdown",
      "metadata": {
        "id": "T6jyXCwsym-e"
      },
      "source": [
        "## 準備"
      ]
    },
    {
      "cell_type": "markdown",
      "metadata": {
        "id": "zggKYME3trPn"
      },
      "source": [
        "### パスワード設定\n",
        "\n",
        "**※勉強会に用いるデータセットの解凍にはパスワードが必要です（一般には公開しません）。**  \n",
        "**※次の変数 RESOURCES_PASSWORD に解凍用の秘密のパスワードを設定してから、以降の処理を実行してください。**"
      ]
    },
    {
      "cell_type": "code",
      "metadata": {
        "id": "4ZjSETt5tvf7"
      },
      "source": [
        "# データセットの解凍用パスワード\n",
        "RESOURCES_PASSWORD = \"\""
      ],
      "execution_count": 1,
      "outputs": []
    },
    {
      "cell_type": "markdown",
      "metadata": {
        "id": "0jnmO3r_jObQ"
      },
      "source": [
        "### 依存ライブラリのインストール\n",
        "\n",
        "インストールに5分程度かかります。気長にお待ちください。"
      ]
    },
    {
      "cell_type": "code",
      "metadata": {
        "id": "pZznmjQghg43",
        "colab": {
          "base_uri": "https://localhost:8080/"
        },
        "outputId": "6b600053-a197-44d0-a753-5cfd580429f8"
      },
      "source": [
        "%%time\n",
        "!pip install mecab-python3==1.0.3 ipadic==1.0.0 pymagnitude gdown"
      ],
      "execution_count": 2,
      "outputs": [
        {
          "output_type": "stream",
          "text": [
            "Collecting mecab-python3==1.0.3\n",
            "  Downloading mecab_python3-1.0.3-cp37-cp37m-manylinux1_x86_64.whl (487 kB)\n",
            "\u001b[K     |████████████████████████████████| 487 kB 5.1 MB/s \n",
            "\u001b[?25hCollecting ipadic==1.0.0\n",
            "  Downloading ipadic-1.0.0.tar.gz (13.4 MB)\n",
            "\u001b[K     |████████████████████████████████| 13.4 MB 8.7 MB/s \n",
            "\u001b[?25hCollecting pymagnitude\n",
            "  Downloading pymagnitude-0.1.143.tar.gz (5.4 MB)\n",
            "\u001b[K     |████████████████████████████████| 5.4 MB 40.3 MB/s \n",
            "\u001b[?25hRequirement already satisfied: gdown in /usr/local/lib/python3.7/dist-packages (3.6.4)\n",
            "Requirement already satisfied: tqdm in /usr/local/lib/python3.7/dist-packages (from gdown) (4.41.1)\n",
            "Requirement already satisfied: six in /usr/local/lib/python3.7/dist-packages (from gdown) (1.15.0)\n",
            "Requirement already satisfied: requests in /usr/local/lib/python3.7/dist-packages (from gdown) (2.23.0)\n",
            "Requirement already satisfied: chardet<4,>=3.0.2 in /usr/local/lib/python3.7/dist-packages (from requests->gdown) (3.0.4)\n",
            "Requirement already satisfied: certifi>=2017.4.17 in /usr/local/lib/python3.7/dist-packages (from requests->gdown) (2021.5.30)\n",
            "Requirement already satisfied: idna<3,>=2.5 in /usr/local/lib/python3.7/dist-packages (from requests->gdown) (2.10)\n",
            "Requirement already satisfied: urllib3!=1.25.0,!=1.25.1,<1.26,>=1.21.1 in /usr/local/lib/python3.7/dist-packages (from requests->gdown) (1.24.3)\n",
            "Building wheels for collected packages: ipadic, pymagnitude\n",
            "  Building wheel for ipadic (setup.py) ... \u001b[?25l\u001b[?25hdone\n",
            "  Created wheel for ipadic: filename=ipadic-1.0.0-py3-none-any.whl size=13556723 sha256=1772ca56f8c8b17e62772af30339dd784b74ca4cb598a385991de6d31ff873d1\n",
            "  Stored in directory: /root/.cache/pip/wheels/33/8b/99/cf0d27191876637cd3639a560f93aa982d7855ce826c94348b\n",
            "  Building wheel for pymagnitude (setup.py) ... \u001b[?25l\u001b[?25hdone\n",
            "  Created wheel for pymagnitude: filename=pymagnitude-0.1.143-cp37-cp37m-linux_x86_64.whl size=361064283 sha256=f8ec45b17dd888808ed30714f8a1f9e3d9e3599ed956bfb4464f2a2da5719ff6\n",
            "  Stored in directory: /root/.cache/pip/wheels/0e/96/d6/b765a1ce34517c193d764b634b1ff7db5e1dcfea2520f17273\n",
            "Successfully built ipadic pymagnitude\n",
            "Installing collected packages: pymagnitude, mecab-python3, ipadic\n",
            "Successfully installed ipadic-1.0.0 mecab-python3-1.0.3 pymagnitude-0.1.143\n",
            "CPU times: user 2.03 s, sys: 312 ms, total: 2.34 s\n",
            "Wall time: 4min 47s\n"
          ],
          "name": "stdout"
        }
      ]
    },
    {
      "cell_type": "markdown",
      "metadata": {
        "id": "CkMSNMxzlZsL"
      },
      "source": [
        "### fastTextの学習済みモデルのダウンロード"
      ]
    },
    {
      "cell_type": "code",
      "metadata": {
        "id": "ywcHUY-e9NV-",
        "colab": {
          "base_uri": "https://localhost:8080/"
        },
        "outputId": "fbf10a10-0578-4de0-e4bb-3a4d810d5c22"
      },
      "source": [
        "!gdown \"https://drive.google.com/uc?export=view&id=16NYoJrQAX_Y72fgwBrK_ZHxgumbK9ZX3\""
      ],
      "execution_count": 3,
      "outputs": [
        {
          "output_type": "stream",
          "text": [
            "Downloading...\n",
            "From: https://drive.google.com/uc?export=view&id=16NYoJrQAX_Y72fgwBrK_ZHxgumbK9ZX3\n",
            "To: /content/jawiki.ipadic.fasttext.ws5-neg5-epoch5.magnitude\n",
            "977MB [00:09, 100MB/s]\n"
          ],
          "name": "stdout"
        }
      ]
    },
    {
      "cell_type": "markdown",
      "metadata": {
        "id": "mgyUsWsPln96"
      },
      "source": [
        "### 「いらすとや」さんの画像メタデータのダウンロード"
      ]
    },
    {
      "cell_type": "code",
      "metadata": {
        "id": "Ecs6gg32_nR7",
        "colab": {
          "base_uri": "https://localhost:8080/"
        },
        "outputId": "d6fe5473-165d-4b99-bd25-13ef65b86b0c"
      },
      "source": [
        "!gdown \"https://drive.google.com/uc?export=view&id=1NQ66ZynRY63SIlk2i4OhMj837YDucLR9\""
      ],
      "execution_count": 4,
      "outputs": [
        {
          "output_type": "stream",
          "text": [
            "Downloading...\n",
            "From: https://drive.google.com/uc?export=view&id=1NQ66ZynRY63SIlk2i4OhMj837YDucLR9\n",
            "To: /content/ii20210224.zip\n",
            "\r0.00B [00:00, ?B/s]\r3.63MB [00:00, 118MB/s]\n"
          ],
          "name": "stdout"
        }
      ]
    },
    {
      "cell_type": "markdown",
      "metadata": {
        "id": "WUqBqYS6utZ3"
      },
      "source": [
        "### データの解凍"
      ]
    },
    {
      "cell_type": "code",
      "metadata": {
        "colab": {
          "base_uri": "https://localhost:8080/"
        },
        "id": "gJ6hjcoVuyWp",
        "outputId": "7f4cca4b-c4fe-490d-be1c-0f3359863c3c"
      },
      "source": [
        "!unzip -P {RESOURCES_PASSWORD} ii20210224.zip"
      ],
      "execution_count": 5,
      "outputs": [
        {
          "output_type": "stream",
          "text": [
            "Archive:  ii20210224.zip\n",
            "  inflating: irasuto_items.json      \n"
          ],
          "name": "stdout"
        }
      ]
    },
    {
      "cell_type": "markdown",
      "metadata": {
        "id": "lTC5cx3Al1_H"
      },
      "source": [
        "### fastTextの学習済みモデルを読み込む"
      ]
    },
    {
      "cell_type": "code",
      "metadata": {
        "id": "U4vFZ8Pl_s87"
      },
      "source": [
        "from pymagnitude import *\n",
        "\n",
        "fasttext_model = Magnitude(\"jawiki.ipadic.fasttext.ws5-neg5-epoch5.magnitude\", \n",
        "                           normalized=False, ngram_oov=True, case_insensitive=True)"
      ],
      "execution_count": 6,
      "outputs": []
    },
    {
      "cell_type": "markdown",
      "metadata": {
        "id": "AYu3oU3cl_5A"
      },
      "source": [
        "動作確認として、有名なアナロジー問題を計算してみます。  \n",
        "モデルの初回読み込みには時間がかかります。\n",
        "\n",
        "男でいう王子は女でいう何か？というアナロジー問題です。  \n",
        "結果は期待通り王女になっています。ちゃんと動いていますね。\n"
      ]
    },
    {
      "cell_type": "code",
      "metadata": {
        "id": "coMTs4EJgJQX",
        "colab": {
          "base_uri": "https://localhost:8080/"
        },
        "outputId": "5ce69ed1-89c4-42a2-a3ef-9cb6392555a5"
      },
      "source": [
        "%%time\n",
        "similarities = fasttext_model.most_similar(positive=['王子', '女'], negative=['男'])\n",
        "print(similarities)"
      ],
      "execution_count": 7,
      "outputs": [
        {
          "output_type": "stream",
          "text": [
            "[('王女', 3.1692638), ('おうじ', 2.8932414), ('王妃', 2.685927), ('フョードロヴナ', 2.6620784), ('パヴロヴナ', 2.6589048), ('マリー・ド・ブルボン', 2.6414475), ('ジャンヌ・ド・ブルボン', 2.5927687), ('麟作', 2.5649061), ('妃', 2.562044), ('太子', 2.5114424)]\n",
            "CPU times: user 52.8 s, sys: 1.55 s, total: 54.4 s\n",
            "Wall time: 55.5 s\n"
          ],
          "name": "stdout"
        }
      ]
    },
    {
      "cell_type": "markdown",
      "metadata": {
        "id": "lq5_HTWinLYM"
      },
      "source": [
        "### 画像メタデータを読み込む"
      ]
    },
    {
      "cell_type": "code",
      "metadata": {
        "id": "Vxx11g-Lhbhc"
      },
      "source": [
        "import json\n",
        "\n",
        "with open('irasuto_items.json', 'r') as items_file:\n",
        "    items = json.load(items_file)"
      ],
      "execution_count": 8,
      "outputs": []
    },
    {
      "cell_type": "markdown",
      "metadata": {
        "id": "kvpGUMG_y2Oq"
      },
      "source": [
        "## 前処理の定義\n",
        "\n",
        "<img src=\"https://camo.qiitausercontent.com/89ed1670075b68629fff160b115db28eaaa74b41/68747470733a2f2f71696974612d696d6167652d73746f72652e73332e61702d6e6f727468656173742d312e616d617a6f6e6177732e636f6d2f302f32363036322f34336531353065382d663765342d363833392d636539372d3266626631336639313439392e706e67\" width=\"800\">"
      ]
    },
    {
      "cell_type": "markdown",
      "metadata": {
        "id": "SbrIV0NBmqvu"
      },
      "source": [
        "### 正規化処理の定義\n",
        "\n",
        "neologdの正規化処理を少し変えたものを利用します。\n",
        "\n",
        "- neologdの正規化処理: https://github.com/neologd/mecab-ipadic-neologd/wiki/Regexp.ja\n",
        "\n",
        "他にも色々と正規化の方法はありうるでしょう。"
      ]
    },
    {
      "cell_type": "code",
      "metadata": {
        "id": "LNP2Lku-gb1J"
      },
      "source": [
        "# https://github.com/neologd/mecab-ipadic-neologd/wiki/Regexp.ja から引用・一部改変\n",
        "from __future__ import unicode_literals\n",
        "import re\n",
        "import unicodedata\n",
        "\n",
        "def unicode_normalize(cls, s):\n",
        "    pt = re.compile('([{}]+)'.format(cls))\n",
        "\n",
        "    def norm(c):\n",
        "        return unicodedata.normalize('NFKC', c) if pt.match(c) else c\n",
        "\n",
        "    s = ''.join(norm(x) for x in re.split(pt, s))\n",
        "    s = re.sub('－', '-', s)\n",
        "    return s\n",
        "\n",
        "def remove_extra_spaces(s):\n",
        "    s = re.sub('[ 　]+', ' ', s)\n",
        "    blocks = ''.join(('\\u4E00-\\u9FFF',  # CJK UNIFIED IDEOGRAPHS\n",
        "                      '\\u3040-\\u309F',  # HIRAGANA\n",
        "                      '\\u30A0-\\u30FF',  # KATAKANA\n",
        "                      '\\u3000-\\u303F',  # CJK SYMBOLS AND PUNCTUATION\n",
        "                      '\\uFF00-\\uFFEF'   # HALFWIDTH AND FULLWIDTH FORMS\n",
        "                      ))\n",
        "    basic_latin = '\\u0000-\\u007F'\n",
        "\n",
        "    def remove_space_between(cls1, cls2, s):\n",
        "        p = re.compile('([{}]) ([{}])'.format(cls1, cls2))\n",
        "        while p.search(s):\n",
        "            s = p.sub(r'\\1\\2', s)\n",
        "        return s\n",
        "\n",
        "    s = remove_space_between(blocks, blocks, s)\n",
        "    s = remove_space_between(blocks, basic_latin, s)\n",
        "    s = remove_space_between(basic_latin, blocks, s)\n",
        "    return s\n",
        "\n",
        "def normalize_neologd(s):\n",
        "    s = s.strip()\n",
        "    s = unicode_normalize('０-９Ａ-Ｚａ-ｚ｡-ﾟ', s)\n",
        "\n",
        "    def maketrans(f, t):\n",
        "        return {ord(x): ord(y) for x, y in zip(f, t)}\n",
        "\n",
        "    s = re.sub('[˗֊‐‑‒–⁃⁻₋−]+', '-', s)  # normalize hyphens\n",
        "    s = re.sub('[﹣－ｰ—―─━ー]+', 'ー', s)  # normalize choonpus\n",
        "    s = re.sub('[~∼∾〜〰～]+', '〜', s)  # normalize tildes (modified by Isao Sonobe)\n",
        "    s = s.translate(\n",
        "        maketrans('!\"#$%&\\'()*+,-./:;<=>?@[¥]^_`{|}~｡､･｢｣',\n",
        "              '！”＃＄％＆’（）＊＋，－．／：；＜＝＞？＠［￥］＾＿｀｛｜｝〜。、・「」'))\n",
        "\n",
        "    s = remove_extra_spaces(s)\n",
        "    s = unicode_normalize('！”＃＄％＆’（）＊＋，－．／：；＜＞？＠［￥］＾＿｀｛｜｝〜', s)  # keep ＝,・,「,」\n",
        "    s = re.sub('[’]', '\\'', s)\n",
        "    s = re.sub('[”]', '\"', s)\n",
        "    s = s.upper()\n",
        "    return s"
      ],
      "execution_count": 9,
      "outputs": []
    },
    {
      "cell_type": "code",
      "metadata": {
        "id": "uUKopvBPgepg"
      },
      "source": [
        "def normalize_text(text):\n",
        "    return normalize_neologd(text)"
      ],
      "execution_count": 10,
      "outputs": []
    },
    {
      "cell_type": "markdown",
      "metadata": {
        "id": "x4ingKoRm0-6"
      },
      "source": [
        "### 形態素解析の定義\n",
        "\n",
        "MeCabを用いて正規化済み文字列を形態素解析します。  \n",
        "辞書は分散表現を学習したときと同じものであるIPA辞書を使用します。"
      ]
    },
    {
      "cell_type": "code",
      "metadata": {
        "id": "qNTEhOoHggjX"
      },
      "source": [
        "import MeCab\n",
        "import ipadic\n",
        "\n",
        "mecab = MeCab.Tagger(ipadic.MECAB_ARGS)"
      ],
      "execution_count": 11,
      "outputs": []
    },
    {
      "cell_type": "code",
      "metadata": {
        "id": "PfhTrgB1g9NS"
      },
      "source": [
        "class Morph(object):\n",
        "    def __init__(self, surface, pos, base):\n",
        "        self.surface = surface\n",
        "        self.pos = pos\n",
        "        self.base = base\n",
        "    def __repr__(self):\n",
        "        return str({\n",
        "            \"surface\": self.surface,\n",
        "            \"pos\": self.pos,\n",
        "            \"base\": self.base\n",
        "        })\n",
        "\n",
        "def tokenize(sentence):\n",
        "    sentence = normalize_text(sentence)\n",
        "    mecab.parse(\"\")\n",
        "    lines = mecab.parse(sentence).split(\"\\n\")\n",
        "    tokens = []\n",
        "    for line in lines:\n",
        "        elems = line.split(\"\\t\")\n",
        "        if len(elems) < 2:\n",
        "            continue\n",
        "        surface = elems[0]\n",
        "        if len(surface):\n",
        "            feature = elems[1].split(\",\")\n",
        "            base = surface if len(feature) < 7 or feature[6] == \"*\" else feature[6]\n",
        "            pos = \",\".join(feature[0:4])\n",
        "            tokens.append(Morph(surface=surface, pos=pos, base=base))\n",
        "    return tokens"
      ],
      "execution_count": 12,
      "outputs": []
    },
    {
      "cell_type": "markdown",
      "metadata": {
        "id": "IFPZqkfrnJZT"
      },
      "source": [
        "試しに形態素解析してみます。surfaceは形態素、posは品詞、baseは原形です。"
      ]
    },
    {
      "cell_type": "code",
      "metadata": {
        "id": "qhAgsAudhZZ9",
        "colab": {
          "base_uri": "https://localhost:8080/"
        },
        "outputId": "7df35604-aba8-4ca5-a220-223747009505"
      },
      "source": [
        "tokenize(\"MeCabを用いて正規化済み文字列を形態素解析します！！\")"
      ],
      "execution_count": 13,
      "outputs": [
        {
          "output_type": "execute_result",
          "data": {
            "text/plain": [
              "[{'surface': 'MECAB', 'pos': '名詞,一般,*,*', 'base': 'MECAB'},\n",
              " {'surface': 'を', 'pos': '助詞,格助詞,一般,*', 'base': 'を'},\n",
              " {'surface': '用い', 'pos': '動詞,自立,*,*', 'base': '用いる'},\n",
              " {'surface': 'て', 'pos': '助詞,接続助詞,*,*', 'base': 'て'},\n",
              " {'surface': '正規', 'pos': '名詞,形容動詞語幹,*,*', 'base': '正規'},\n",
              " {'surface': '化', 'pos': '名詞,接尾,サ変接続,*', 'base': '化'},\n",
              " {'surface': '済み', 'pos': '名詞,接尾,一般,*', 'base': '済み'},\n",
              " {'surface': '文字', 'pos': '名詞,一般,*,*', 'base': '文字'},\n",
              " {'surface': '列', 'pos': '名詞,一般,*,*', 'base': '列'},\n",
              " {'surface': 'を', 'pos': '助詞,格助詞,一般,*', 'base': 'を'},\n",
              " {'surface': '形態素', 'pos': '名詞,一般,*,*', 'base': '形態素'},\n",
              " {'surface': '解析', 'pos': '名詞,サ変接続,*,*', 'base': '解析'},\n",
              " {'surface': 'し', 'pos': '動詞,自立,*,*', 'base': 'する'},\n",
              " {'surface': 'ます', 'pos': '助動詞,*,*,*', 'base': 'ます'},\n",
              " {'surface': '!!', 'pos': '記号,一般,*,*', 'base': '!!'}]"
            ]
          },
          "metadata": {
            "tags": []
          },
          "execution_count": 13
        }
      ]
    },
    {
      "cell_type": "markdown",
      "metadata": {
        "id": "Ygh7uW9unQox"
      },
      "source": [
        "### 不要な形態素の除外\n",
        "\n",
        "重要な意味を持たなかったりノイズになったりする形態素（ストップワード）を除外します。  \n",
        "今回用いた除外方法は次の2つです。  \n",
        "\n",
        "1. 重要でない品詞は除外する。\n",
        "1. 多くの文章に現れている形態素を除外する。\n",
        "\n",
        "全説明文に現れる形態素と品詞を出現頻度の高い順にみて決めました。  \n",
        "今回、結果的に重要ではないとした品詞は以下 stop_pos のもの、重要でない形態素は「イラスト」「する」「(」「)」の4つと「!」や「?」で構成される形態素にしました。\n",
        "\n",
        "今回はこのような人力で採用・不採用を決めてゼロイチでお重み付けする素朴な方法を用いましたが、他にもSCDVのように出現頻度情報（古典的にはTF-IDF）で重み付けしたり、固有表現やアテンションの類で形態素の重要度を重み付けする方法を使えばもっと精度が上がるかもしれません。もちろん、試してみないと実感に合うかどうか分かりませんし、トレードオフ（用途の向き不向き、非機能面の改悪）もあるでしょう。"
      ]
    },
    {
      "cell_type": "code",
      "metadata": {
        "id": "jpGatGxohecN"
      },
      "source": [
        "stop_pos = {\n",
        "    \"助詞,格助詞,一般,*\",\n",
        "    \"助詞,格助詞,引用,*\",\n",
        "    \"助詞,格助詞,連語,*\",\n",
        "    \"助詞,係助詞,*,*\",\n",
        "    \"助詞,終助詞,*,*\",\n",
        "    \"助詞,接続助詞,*,*\",\n",
        "    \"助詞,特殊,*,*\",\n",
        "    \"助詞,副詞化,*,*\",\n",
        "    \"助詞,副助詞,*,*\",\n",
        "    \"助詞,副助詞／並立助詞／終助詞,*,*\",\n",
        "    \"助詞,並立助詞,*,*\",\n",
        "    \"助詞,連体化,*,*\",\n",
        "    \"助動詞,*,*,*\",\n",
        "    \"記号,句点,*,*\",\n",
        "    \"記号,読点,*,*\",\n",
        "    \"記号,空白,*,*\",\n",
        "    \"記号,一般,*,*\",\n",
        "    \"記号,アルファベット,*,*\",\n",
        "    \"記号,一般,*,*\",\n",
        "    \"記号,括弧開,*,*\",\n",
        "    \"記号,括弧閉,*,*\",\n",
        "    \"動詞,接尾,*,*\",\n",
        "    \"動詞,非自立,*,*\",\n",
        "    \"名詞,非自立,一般,*\",\n",
        "    \"名詞,非自立,形容動詞語幹,*\",\n",
        "    \"名詞,非自立,助動詞語幹,*\",\n",
        "    \"名詞,非自立,副詞可能,*\",\n",
        "    \"名詞,接尾,助動詞語幹,*\",\n",
        "    \"名詞,接尾,人名,*\",\n",
        "    \"接頭詞,名詞接続,*,*\"\n",
        "}\n",
        "\n",
        "vocab = {}\n",
        "for item in items:\n",
        "    desc = item[\"desc\"]\n",
        "    title = item[\"title\"]\n",
        "    tokens = tokenize(desc)\n",
        "    for token in tokens:\n",
        "        key = token.base\n",
        "        pos = token.pos\n",
        "        is_stop = pos in stop_pos\n",
        "        v = vocab.get(key, { \"count\": 0, \"pos\": pos , \"stop\": is_stop})\n",
        "        v[\"count\"] += 1\n",
        "        vocab[key] = v\n",
        "\n",
        "vocab_list = []\n",
        "for k in vocab:\n",
        "    v = vocab[k]\n",
        "    if not v[\"stop\"]:\n",
        "        vocab_list.append((v[\"count\"], k, v[\"pos\"], v[\"stop\"]))"
      ],
      "execution_count": 14,
      "outputs": []
    },
    {
      "cell_type": "markdown",
      "metadata": {
        "id": "sd3WNLCsns1f"
      },
      "source": [
        "stop_posに含まれない品詞の形態素を出現頻度の高い順に一覧化します。  \n",
        "タプルの情報は、左から出現頻度、形態素の原形、品詞、stop_posに含まれるか否か（Falseのみ）です。"
      ]
    },
    {
      "cell_type": "code",
      "metadata": {
        "id": "lCsJpQnzhhIt",
        "colab": {
          "base_uri": "https://localhost:8080/"
        },
        "outputId": "4a9f2fe7-69f0-4394-cb89-ea717a0497d0"
      },
      "source": [
        "vocab_list = sorted(vocab_list, reverse=True)\n",
        "vocab_list[:10]"
      ],
      "execution_count": 15,
      "outputs": [
        {
          "output_type": "execute_result",
          "data": {
            "text/plain": [
              "[(24276, 'イラスト', '名詞,一般,*,*', False),\n",
              " (10287, 'する', '動詞,自立,*,*', False),\n",
              " (2927, '女性', '名詞,一般,*,*', False),\n",
              " (2653, '男性', '名詞,一般,*,*', False),\n",
              " (2148, '使う', '動詞,自立,*,*', False),\n",
              " (1411, '人', '名詞,接尾,一般,*', False),\n",
              " (1401, '着る', '動詞,自立,*,*', False),\n",
              " (1346, 'なる', '動詞,自立,*,*', False),\n",
              " (1090, '描く', '動詞,自立,*,*', False),\n",
              " (1073, '中', '名詞,接尾,副詞可能,*', False)]"
            ]
          },
          "metadata": {
            "tags": []
          },
          "execution_count": 15
        }
      ]
    },
    {
      "cell_type": "markdown",
      "metadata": {
        "id": "3QqsgR03n6mx"
      },
      "source": [
        "出現頻度が多い、トップ2の形態素は意味を持たないと考えて除外します。"
      ]
    },
    {
      "cell_type": "code",
      "metadata": {
        "id": "GnVZtE96hjy0",
        "colab": {
          "base_uri": "https://localhost:8080/"
        },
        "outputId": "372cc2e1-1a57-4786-eda1-bc5bfb10014a"
      },
      "source": [
        "stop_word = [w[1] for w in vocab_list[:2]]\n",
        "stop_word"
      ],
      "execution_count": 16,
      "outputs": [
        {
          "output_type": "execute_result",
          "data": {
            "text/plain": [
              "['イラスト', 'する']"
            ]
          },
          "metadata": {
            "tags": []
          },
          "execution_count": 16
        }
      ]
    },
    {
      "cell_type": "markdown",
      "metadata": {
        "id": "0O_1wp86oCR1"
      },
      "source": [
        "mecabでは記号が\"名詞,サ変接続,*,*\"になることがあるため、!や?で構成される形態素も除外します。もっとパターンを増やした方がいいでしょう。"
      ]
    },
    {
      "cell_type": "code",
      "metadata": {
        "id": "tOwrS1_ZhmXC"
      },
      "source": [
        "import re\n",
        "stop_word_regex = [ re.compile(\"^[!?]+$\")]"
      ],
      "execution_count": 17,
      "outputs": []
    },
    {
      "cell_type": "markdown",
      "metadata": {
        "id": "2pv_MAKdoGBl"
      },
      "source": [
        "### 文の分散表現の計算方法の定義\n",
        "\n",
        "与えられた文を、文の分散表現に変換する関数 get_sentence_vector を定義します。  \n",
        "今回採用した文の分散表現の計算方法は次の通りです。\n",
        "\n",
        "1. 正規化・形態素解析・前処理を行う。\n",
        "2. 1で求めた形態素列の各形態素に対応する分散表現をfastTextを用いて計算する。\n",
        "3. 2で求めた単語の分散表現の単純和を文の分散表現とする。\n",
        "\n",
        "今回は形態素をそのまま入力にして学習したfastTextを使用するため、形態素そのままを入力にして分散表現を計算しています。もし、word2vec等で形態素の原形を用いて学習した場合は、形態素の原形を入力に分散表現を計算するといいでしょう。  \n",
        "今回は（意図して）極めて素朴な文の分散表現計算方法（単語の分散表現の単純和）を採用しましたが、他にも（あまり精度は変わらないかもしれませんが）doc2vecや、より高度なニューラル言語モデル（[sentence-BERT](https://qiita.com/sonoisa/items/1df94d0a98cd4f209051)）などを用いて深い文脈情報を持った文の分散表現を作ってもいいでしょう。"
      ]
    },
    {
      "cell_type": "code",
      "metadata": {
        "id": "Ma_zbpNLhpdU"
      },
      "source": [
        "import numpy as np\n",
        "\n",
        "def get_sentence_vector(sentence):\n",
        "    tokens = tokenize(sentence)\n",
        "    vecs = []\n",
        "    for token in tokens:\n",
        "        if is_stop(token):\n",
        "            continue\n",
        "        surface = token.surface\n",
        "        v = fasttext_model.query(surface)\n",
        "#         v = v / np.linalg.norm(v, axis=0, ord=2)\n",
        "        vecs.append(v)\n",
        "\n",
        "    sent_vec = None\n",
        "    for vec in vecs:\n",
        "        if sent_vec is None:\n",
        "            sent_vec = vec\n",
        "        else:\n",
        "            sent_vec = sent_vec + vec\n",
        "    return sent_vec\n",
        "\n",
        "def is_stop(token):\n",
        "    return token.pos in stop_pos or token.base in stop_word or any([r for r in stop_word_regex if r.match(token.base) is not None])"
      ],
      "execution_count": 18,
      "outputs": []
    },
    {
      "cell_type": "markdown",
      "metadata": {
        "id": "f6btSEuxonNr"
      },
      "source": [
        "試しに文ベクトルを計算してみます。"
      ]
    },
    {
      "cell_type": "code",
      "metadata": {
        "id": "pCuGmYnRhsTb",
        "colab": {
          "base_uri": "https://localhost:8080/"
        },
        "outputId": "5f2c64a4-53bc-413c-f951-296823269a53"
      },
      "source": [
        "get_sentence_vector(\"与えられた文から文の分散表現を計算します。\")"
      ],
      "execution_count": 19,
      "outputs": [
        {
          "output_type": "execute_result",
          "data": {
            "text/plain": [
              "array([-1.5151137e-01, -3.1349602e-01,  6.7971635e-01,  1.0311966e+00,\n",
              "        2.8439978e-01,  6.2196982e-01,  9.4056803e-01,  1.9055775e+00,\n",
              "        9.5409608e-01, -8.8091004e-01,  1.7558415e-01, -1.5682095e+00,\n",
              "       -6.8752211e-01,  9.9586457e-02,  1.0331454e+00,  9.7016275e-01,\n",
              "       -3.9063269e-01, -2.7099931e-01,  8.2853079e-02, -5.2743930e-01,\n",
              "        8.0596018e-01,  7.0612162e-02, -3.1877765e-01,  3.8583285e-01,\n",
              "       -9.5091981e-01, -1.3337028e+00, -1.8184139e+00,  5.0215793e-01,\n",
              "       -3.6932892e-01,  1.9496541e-01, -5.4951578e-01, -7.2261202e-01,\n",
              "        3.1510192e-01,  7.1649033e-01, -1.6657740e+00, -1.3129126e+00,\n",
              "        1.2015147e+00,  1.4813354e+00,  4.0738815e-01,  6.4084929e-01,\n",
              "        8.1722784e-01,  8.0454010e-01,  2.0863664e-01, -1.3490838e-01,\n",
              "       -8.1304508e-01, -1.0982885e+00, -1.1494877e-01,  1.0799465e+00,\n",
              "        3.8322967e-01, -8.1491220e-01, -7.1751511e-01, -1.0450217e+00,\n",
              "        3.8744628e-01,  1.0822784e+00,  8.9399111e-01,  2.8967397e+00,\n",
              "       -4.5797428e-01, -8.8782895e-01, -1.6599584e+00, -8.4285691e-02,\n",
              "       -3.6671653e-01, -4.7486395e-01,  8.7473881e-01,  9.6462333e-01,\n",
              "        1.0302413e+00,  9.5809990e-01, -1.1335000e+00, -5.3996980e-01,\n",
              "        1.0155759e+00,  9.0075803e-01, -2.5887883e-01,  1.6401391e+00,\n",
              "       -8.8404518e-01,  2.4179611e-01,  8.4762645e-01,  8.3851710e-02,\n",
              "        1.0301827e+00,  7.0245206e-01,  1.0924215e+00,  1.0187910e+00,\n",
              "       -4.7514385e-01,  3.0237675e-01, -1.3500883e-01,  1.2675814e-01,\n",
              "       -5.5907536e-01, -3.5840765e-01,  8.8379705e-01, -2.2190547e-01,\n",
              "       -3.1755561e-01,  6.6202605e-01, -3.9107049e-01, -4.9575955e-01,\n",
              "        7.1850136e-02, -1.6213002e+00,  4.1035958e-02, -8.5051268e-01,\n",
              "       -1.3823057e+00, -1.3182755e+00, -9.3409979e-01,  5.4026610e-01,\n",
              "        1.1158568e+00,  2.1004546e-01,  1.2332299e-01,  8.5423970e-01,\n",
              "       -7.8472495e-01, -6.6777307e-01, -5.6344223e-01, -1.0039945e+00,\n",
              "       -3.2187718e-01, -3.9725959e-01, -7.5400555e-01, -6.5468621e-01,\n",
              "        1.4786229e+00, -1.2973251e+00, -2.0588592e-02,  7.2503045e-02,\n",
              "       -7.0600820e-01,  7.3829454e-01,  2.2976328e-01,  1.8000902e+00,\n",
              "       -5.5375993e-03, -8.9929014e-01, -1.4695458e+00, -2.9943687e-01,\n",
              "       -5.6209964e-01,  1.4757366e-01,  2.9855183e-01,  2.6694002e+00,\n",
              "        5.9433572e-02, -1.4183368e-01,  6.3715219e-01,  2.1051942e-01,\n",
              "       -4.9415869e-01,  1.4942231e+00,  1.2431890e+00, -9.0700930e-01,\n",
              "       -1.5145478e+00,  6.1524279e-02,  1.2920103e+00, -1.3122311e-01,\n",
              "        7.5972304e-02,  2.0874490e-01, -1.2113689e+00, -8.3721668e-01,\n",
              "       -9.1317803e-02,  9.4277954e-01, -1.4083556e+00, -3.7509525e-01,\n",
              "        4.1241559e-01,  3.8475606e-01, -6.2321126e-01,  9.9009496e-01,\n",
              "        7.2331583e-01, -9.9094886e-01, -1.2175692e+00, -1.5077473e+00,\n",
              "       -2.4799117e-01,  1.1551644e-01,  6.7547876e-01, -1.1708242e+00,\n",
              "        1.1180521e+00,  1.1148827e+00, -6.0386962e-01, -3.2953990e-01,\n",
              "        4.0142825e-01,  2.0656565e-01,  2.6800886e-01, -2.5532347e-01,\n",
              "       -1.1310922e+00,  3.4444714e-01, -5.7093012e-01, -5.8541560e-01,\n",
              "        2.3644368e-01, -1.4149197e+00,  6.5191698e-01, -1.7762050e-01,\n",
              "       -3.1129593e-01,  8.0316949e-01, -9.8568156e-02,  5.0127965e-01,\n",
              "        3.0511716e-01,  3.8457969e-01, -1.8613711e-03, -1.2151347e+00,\n",
              "        2.1983080e-01,  3.7962162e-01,  4.9310106e-01, -4.6613979e-01,\n",
              "       -1.8809178e+00,  5.8172905e-01, -7.0945823e-01, -3.4019452e-01,\n",
              "        5.8994427e-02,  2.9050398e-01, -1.1554835e+00, -3.1850055e-01,\n",
              "       -8.5666299e-01, -6.5982318e-01, -2.2585902e+00,  5.8210278e-01,\n",
              "       -3.2897002e-01,  7.3403880e-02,  3.2768583e-01, -2.2769235e-02,\n",
              "       -9.3358272e-01,  1.3220074e+00,  1.1198597e+00, -1.0392739e+00,\n",
              "        1.1722801e+00, -1.6438289e+00,  1.6622794e-01,  6.6142070e-01,\n",
              "       -8.6274016e-01, -5.1398224e-01, -1.7513601e+00,  1.1266325e+00,\n",
              "       -6.0288084e-01, -1.1748085e+00, -1.2387254e+00, -1.4133762e+00,\n",
              "       -1.2950628e+00,  3.5726249e-01,  5.1440018e-01,  9.1072977e-01,\n",
              "        1.6985972e-01,  4.1076666e-01,  9.9956560e-01, -5.3319538e-01,\n",
              "       -4.6586514e-01, -1.2292199e+00, -4.0995002e-01,  2.0720971e+00,\n",
              "        4.3820423e-01, -4.9361917e-01, -9.5719349e-01, -8.3283223e-02,\n",
              "       -1.0990876e+00, -7.4878030e-02, -4.5286518e-01, -3.2881486e-01,\n",
              "       -1.2628298e+00, -1.3182086e-01, -9.4600439e-02,  5.7763940e-01,\n",
              "        4.0126202e-01, -6.4163864e-01, -6.1284518e-01,  2.8651011e-01,\n",
              "        8.4940481e-01,  8.4186131e-01, -1.2257696e+00,  1.1851599e+00,\n",
              "       -3.9146090e-01, -3.6431077e-01, -2.2134101e+00, -5.0258458e-01,\n",
              "       -2.8960460e-01, -6.5552783e-01,  6.1172009e-01,  1.2534096e+00,\n",
              "        8.4744692e-01,  6.6138619e-01,  5.8003610e-01,  2.9363200e-01,\n",
              "       -1.3030124e+00, -1.4515579e-01, -5.9148002e-01, -1.0100603e+00,\n",
              "        6.7825180e-01,  3.9221528e-01,  2.2404008e+00, -8.4468883e-01,\n",
              "        4.6740305e-01,  1.7359601e+00,  1.0098193e+00,  6.4023995e-01,\n",
              "       -4.4376880e-01, -1.6610166e-01, -3.4195989e-01,  3.3649895e-01,\n",
              "        7.0847946e-01, -6.5343916e-02,  9.2759740e-01, -4.5888501e-01,\n",
              "        2.1416469e+00, -8.9419073e-01,  3.2287550e-01, -1.5945841e+00,\n",
              "        1.7439628e-01,  6.3709617e-01,  3.8464576e-01,  3.1289011e-01,\n",
              "       -6.1695948e-02, -5.0526255e-01,  8.9328334e-02, -4.4665098e-01,\n",
              "        5.1862657e-01, -5.1563606e-02,  5.7502460e-01, -1.6067141e+00],\n",
              "      dtype=float32)"
            ]
          },
          "metadata": {
            "tags": []
          },
          "execution_count": 19
        }
      ]
    },
    {
      "cell_type": "markdown",
      "metadata": {
        "id": "GFMXDGYeoqNB"
      },
      "source": [
        "## 説明文の分散表現の計算実行\n",
        "\n",
        "画像メタデータに説明文の分散表現を追加します。"
      ]
    },
    {
      "cell_type": "code",
      "metadata": {
        "id": "jxi0CKEwhudM",
        "colab": {
          "base_uri": "https://localhost:8080/"
        },
        "outputId": "97028f2a-ea88-4b5b-eeb9-f351dd5d7baf"
      },
      "source": [
        "from tqdm import tqdm\n",
        "for item in tqdm(items):\n",
        "    desc = item[\"desc\"]\n",
        "    desc_vec = get_sentence_vector(desc)\n",
        "    item[\"vec\"] = desc_vec"
      ],
      "execution_count": 20,
      "outputs": [
        {
          "output_type": "stream",
          "text": [
            "100%|██████████| 25007/25007 [00:40<00:00, 622.64it/s]\n"
          ],
          "name": "stderr"
        }
      ]
    },
    {
      "cell_type": "markdown",
      "metadata": {
        "id": "bs8RGc3omSWu"
      },
      "source": [
        "## コサイン類似度の定義\n",
        "\n",
        "今回は、文の意味の近さを、文の分散表現のコサイン類似度によって測ります。  \n",
        "文の意味が近ければ、文の分散表現（ベクトル）v1とv2が近くなるという定性的性質を、ベクトルの成す角のcosによって測るということです。"
      ]
    },
    {
      "cell_type": "code",
      "metadata": {
        "id": "Offh5t0egMMf"
      },
      "source": [
        "import numpy as np\n",
        "\n",
        "def cos_sim(v1, v2):\n",
        "    v1 = v1 / np.linalg.norm(v1, axis=0, ord=2)\n",
        "    v2 = v2 / np.linalg.norm(v2, axis=0, ord=2)\n",
        "    return np.sum(v1 * v2)"
      ],
      "execution_count": 21,
      "outputs": []
    },
    {
      "cell_type": "markdown",
      "metadata": {
        "id": "Qc4hRErho2Hg"
      },
      "source": [
        "## 画像検索結果GUIの定義\n",
        "\n",
        "最後のステップです。画像を検索する関数を定義します。  \n",
        "いままで作った関数を使えば、次の処理からなる検索アルゴリズム（最初の図も参照）を簡単に実装できますね。  \n",
        "\n",
        "1. 与えられた文から文の分散表現を計算する。\n",
        "2. その分散表現と、説明文の分散表現の間のコサイン類似度を計算する。\n",
        "3. コサイン類似度の高い順に画像の関連情報を表示する。\n",
        "\n",
        "**※なお「いらすとや」さんの広告収入モデルに悪影響を与えないよう、必ず「いらすとや」さんのページへのリンクを張り、画像のダウンロードは「いらすとや」さんのページから行うようにしましょう。その他、[「いらすとや」さんの利用規約](https://www.irasutoya.com/p/terms.html)に違反しないよう十分ご注意ください。**\n"
      ]
    },
    {
      "cell_type": "code",
      "metadata": {
        "id": "DERnyNfUhzuw"
      },
      "source": [
        "from IPython.display import display, HTML, clear_output\n",
        "from html import escape\n",
        "import numpy as np\n",
        "\n",
        "def search_irasuto(sentence, top_n=3):\n",
        "    sentence_vector = get_sentence_vector(sentence)\n",
        "    sims = []\n",
        "    if sentence_vector is None:\n",
        "        print(\"検索できない文章です。もう少し文章を長くしてみてください。\")\n",
        "    else:\n",
        "        for item in items:\n",
        "            v = item[\"vec\"]\n",
        "            if v is None:\n",
        "                sims.append(-1.0)\n",
        "            else:\n",
        "                sim = cos_sim(sentence_vector, v)\n",
        "                sims.append(sim)\n",
        "    \n",
        "    count = 0\n",
        "    for index in np.argsort(sims)[::-1]:\n",
        "        if count >= top_n:\n",
        "            break\n",
        "        item = items[index]\n",
        "        desc = escape(item[\"desc\"])\n",
        "        imgs = item[\"imgs\"]\n",
        "        if len(imgs) == 0:\n",
        "            continue\n",
        "        img = imgs[0]\n",
        "        page = item[\"page\"]\n",
        "        sim = sims[index]\n",
        "        display(HTML(\"<div><a href='\" + page + \"' target='_blank' rel='noopener noreferrer'><img src='\" + img + \"' width='100'>\" + str(sim) + \": \" + desc + \"</a><div>\"))\n",
        "        count += 1"
      ],
      "execution_count": 22,
      "outputs": []
    },
    {
      "cell_type": "markdown",
      "metadata": {
        "id": "Sf2zNh0_pICu"
      },
      "source": [
        "## アプリの動作確認\n",
        "\n",
        "さあ、これでアルゴリズムは完成しました。早速、試してみましょう。  "
      ]
    },
    {
      "cell_type": "code",
      "metadata": {
        "id": "yKIhqhnBh3U6",
        "colab": {
          "base_uri": "https://localhost:8080/",
          "height": 560
        },
        "outputId": "7eda7216-481e-40e1-a9a8-85ff5668dded"
      },
      "source": [
        "search_irasuto(sentence=\"暴走したAI\", top_n=5)"
      ],
      "execution_count": 23,
      "outputs": [
        {
          "output_type": "display_data",
          "data": {
            "text/html": [
              "<div><a href='https://www.irasutoya.com/2016/12/blog-post_607.html' target='_blank' rel='noopener noreferrer'><img src='https://2.bp.blogspot.com/--RIb-pd-Kdg/WFtH6Um3jmI/AAAAAAABAmQ/wRiSA1kKc8MBYEaEonmSbwB2UZAaiwhwACLcB/s400/ai_kenka.png' width='100'>0.7473553: 人工知能（AI）のキャラクターと人間がつかみ合いの喧嘩をしているイラストです。</a><div>"
            ],
            "text/plain": [
              "<IPython.core.display.HTML object>"
            ]
          },
          "metadata": {
            "tags": []
          }
        },
        {
          "output_type": "display_data",
          "data": {
            "text/html": [
              "<div><a href='https://www.irasutoya.com/2018/01/ai_24.html' target='_blank' rel='noopener noreferrer'><img src='https://1.bp.blogspot.com/-_8SYZZElKrs/WlGpFpPYlHI/AAAAAAABJkY/f2nT1BHBhUMzI_iztmoUPpLZdbl5TDENwCLcBGAs/s400/ai_vs_ai_fight.png' width='100'>0.73938346: AI（人工知能）のキャラクター同士で戦っているイラストです。</a><div>"
            ],
            "text/plain": [
              "<IPython.core.display.HTML object>"
            ]
          },
          "metadata": {
            "tags": []
          }
        },
        {
          "output_type": "display_data",
          "data": {
            "text/html": [
              "<div><a href='https://www.irasutoya.com/2018/01/ai_67.html' target='_blank' rel='noopener noreferrer'><img src='https://3.bp.blogspot.com/-C2s0Odthnhs/WlGpE022cNI/AAAAAAABJkQ/O3rwM1BtFtYUkf83QIarn9eiHA7jLgHSwCLcBGAs/s400/ai_heart_kokoro.png' width='100'>0.7326243: 感情を持ってしまったAI（人工知能）のイラストです。</a><div>"
            ],
            "text/plain": [
              "<IPython.core.display.HTML object>"
            ]
          },
          "metadata": {
            "tags": []
          }
        },
        {
          "output_type": "display_data",
          "data": {
            "text/html": [
              "<div><a href='https://www.irasutoya.com/2018/01/ai.html' target='_blank' rel='noopener noreferrer'><img src='https://4.bp.blogspot.com/-4I4COj6OozA/WlGnfNSzbJI/AAAAAAABJbk/BkWVOF-8mBAt8hQXdHLn-n3BpmgN0pGTwCLcBGAs/s400/ai_character_family.png' width='100'>0.7165027: 親のAI（人工知能）と子供のAIのキャラクターが並んで立っているイラストです。</a><div>"
            ],
            "text/plain": [
              "<IPython.core.display.HTML object>"
            ]
          },
          "metadata": {
            "tags": []
          }
        },
        {
          "output_type": "display_data",
          "data": {
            "text/html": [
              "<div><a href='https://www.irasutoya.com/2019/03/blog-post_84.html' target='_blank' rel='noopener noreferrer'><img src='https://2.bp.blogspot.com/-H2eLSLfzvpA/XGjx1UapC6I/AAAAAAABRcA/5Xdh-W7tqk8X1YONndv2B1ykhJ6BRS1bgCLcBGAs/s400/ai_computer_sousa_robot.png' width='100'>0.7138326: AI（人工知能）が搭載されたロボットがパソコンの操作（RPA）をしているイラストです。</a><div>"
            ],
            "text/plain": [
              "<IPython.core.display.HTML object>"
            ]
          },
          "metadata": {
            "tags": []
          }
        }
      ]
    },
    {
      "cell_type": "code",
      "metadata": {
        "id": "CI-7oNwlh-zK",
        "colab": {
          "base_uri": "https://localhost:8080/",
          "height": 590
        },
        "outputId": "a4ac231d-c79c-4543-8689-ed0cd37de480"
      },
      "source": [
        "search_irasuto(sentence=\"リモートワークで勉強会\", top_n=5)"
      ],
      "execution_count": 24,
      "outputs": [
        {
          "output_type": "display_data",
          "data": {
            "text/html": [
              "<div><a href='https://www.irasutoya.com/2018/12/blog-post_888.html' target='_blank' rel='noopener noreferrer'><img src='https://1.bp.blogspot.com/-WnXOmjPozrQ/W-0hP1BuHSI/AAAAAAABQQc/phtNaF3by8Yk177dofmtMZNj5T-t-MmXQCLcBGAs/s400/video_kaigi.png' width='100'>0.7439832: カメラ付きのテレビやパソコンを使って遠隔地にいる人達とオンラインでオンライン会議（リモート会議・Web会議・オンライン商談）をしているビジネスマンのイラストです。</a><div>"
            ],
            "text/plain": [
              "<IPython.core.display.HTML object>"
            ]
          },
          "metadata": {
            "tags": []
          }
        },
        {
          "output_type": "display_data",
          "data": {
            "text/html": [
              "<div><a href='https://www.irasutoya.com/2020/04/blog-post_50.html' target='_blank' rel='noopener noreferrer'><img src='https://1.bp.blogspot.com/-w03VLWLD0kE/Xor0Sl6t0QI/AAAAAAABYMA/CXx_ZHmrM6EwqNX_UbNUZB7-XIAIwDdVQCNcBGAsYHQ/s400/online_nomikai_man.png' width='100'>0.73642665: 遠くにいる友人たちとパソコンやテレビを使って楽しそうにリモート飲み会（パーティー・忘年会）をしているイラストです。</a><div>"
            ],
            "text/plain": [
              "<IPython.core.display.HTML object>"
            ]
          },
          "metadata": {
            "tags": []
          }
        },
        {
          "output_type": "display_data",
          "data": {
            "text/html": [
              "<div><a href='https://www.irasutoya.com/2016/11/blog-post_279.html' target='_blank' rel='noopener noreferrer'><img src='https://4.bp.blogspot.com/-MWbEQSfepGA/WASJSTuTBQI/AAAAAAAA_CU/dztX2Chw2H06Xjww2rkrdx2Ju-EfhN2zQCLcB/s400/shigoto_white_woman_casual.png' width='100'>0.70279324: 白人女性が私服でノートパソコンを使って仕事（在宅勤務・テレワーク）をしているイラストです。</a><div>"
            ],
            "text/plain": [
              "<IPython.core.display.HTML object>"
            ]
          },
          "metadata": {
            "tags": []
          }
        },
        {
          "output_type": "display_data",
          "data": {
            "text/html": [
              "<div><a href='https://www.irasutoya.com/2017/05/blog-post_170.html' target='_blank' rel='noopener noreferrer'><img src='https://3.bp.blogspot.com/-3W9jbHuOO6I/WQvveEtcxSI/AAAAAAABEHo/dseHmj7E18YQdSn8RnYdEoQGCXEKWPJswCLcB/s400/work_desk_kitanai.png' width='100'>0.7005655: 上に書類やパソコンなどがごちゃごちゃに置かれた、オフィスなどで使われるスチールデスク（ワークデスク）のイラストです。</a><div>"
            ],
            "text/plain": [
              "<IPython.core.display.HTML object>"
            ]
          },
          "metadata": {
            "tags": []
          }
        },
        {
          "output_type": "display_data",
          "data": {
            "text/html": [
              "<div><a href='https://www.irasutoya.com/2015/09/blog-post_79.html' target='_blank' rel='noopener noreferrer'><img src='https://3.bp.blogspot.com/-9_wU72o_4sw/VdL1Na0LYcI/AAAAAAAAw7o/STbgsN4kotE/s400/mensetsu_group_discussion.png' width='100'>0.6982409: 就職活動中の学生たちが議論している様子を面接官がチェックする、グループディスカッションのイラストです。</a><div>"
            ],
            "text/plain": [
              "<IPython.core.display.HTML object>"
            ]
          },
          "metadata": {
            "tags": []
          }
        }
      ]
    },
    {
      "cell_type": "code",
      "metadata": {
        "id": "v_YeSrnah5k6",
        "colab": {
          "base_uri": "https://localhost:8080/",
          "height": 146
        },
        "outputId": "7736fb0d-c391-4ba3-b250-948c2b8d07a2"
      },
      "source": [
        "search_irasuto(sentence=\"いらすとやさんに惜しみない拍手を\", top_n=1)"
      ],
      "execution_count": 25,
      "outputs": [
        {
          "output_type": "display_data",
          "data": {
            "text/html": [
              "<div><a href='https://www.irasutoya.com/2015/01/blog-post_883.html' target='_blank' rel='noopener noreferrer'><img src='https://4.bp.blogspot.com/-PSd2xMIqM5M/VJ6Xcu17JhI/AAAAAAAAqLE/wSlWHEFvLIg/s400/hakusyu.png' width='100'>0.7311499: 笑顔で拍手を送っている男性のイラストです。</a><div>"
            ],
            "text/plain": [
              "<IPython.core.display.HTML object>"
            ]
          },
          "metadata": {
            "tags": []
          }
        }
      ]
    },
    {
      "cell_type": "code",
      "metadata": {
        "id": "TI9ReUvOv2G0"
      },
      "source": [
        ""
      ],
      "execution_count": 25,
      "outputs": []
    }
  ]
}